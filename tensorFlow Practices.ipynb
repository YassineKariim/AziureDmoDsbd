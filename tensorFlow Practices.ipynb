{
  "nbformat": 4,
  "nbformat_minor": 0,
  "metadata": {
    "colab": {
      "provenance": [],
      "authorship_tag": "ABX9TyP0ZyGGdKX4FA43ZD3g+mSM",
      "include_colab_link": true
    },
    "kernelspec": {
      "name": "python3",
      "display_name": "Python 3"
    },
    "language_info": {
      "name": "python"
    }
  },
  "cells": [
    {
      "cell_type": "markdown",
      "metadata": {
        "id": "view-in-github",
        "colab_type": "text"
      },
      "source": [
        "<a href=\"https://colab.research.google.com/github/YassineKariim/AziureDmoDsbd/blob/master/tensorFlow%20Practices.ipynb\" target=\"_parent\"><img src=\"https://colab.research.google.com/assets/colab-badge.svg\" alt=\"Open In Colab\"/></a>"
      ]
    },
    {
      "cell_type": "code",
      "execution_count": 1,
      "metadata": {
        "colab": {
          "base_uri": "https://localhost:8080/"
        },
        "id": "NA7KctIkSBV3",
        "outputId": "13c6e11e-0302-457a-c468-9075afa80ad3"
      },
      "outputs": [
        {
          "output_type": "stream",
          "name": "stdout",
          "text": [
            "yasine\n"
          ]
        }
      ],
      "source": [
        "print('yasine')"
      ]
    },
    {
      "cell_type": "markdown",
      "source": [],
      "metadata": {
        "id": "HslP8RHjSlVh"
      }
    },
    {
      "cell_type": "code",
      "source": [
        "#import tensorflow\n",
        "import tensorflow as tf\n",
        "print(tf.__version__)"
      ],
      "metadata": {
        "colab": {
          "base_uri": "https://localhost:8080/"
        },
        "id": "nHLWIxvwSls9",
        "outputId": "e67085ce-cc18-455a-e143-a8599c9af811"
      },
      "execution_count": 2,
      "outputs": [
        {
          "output_type": "stream",
          "name": "stdout",
          "text": [
            "2.12.0\n"
          ]
        }
      ]
    },
    {
      "cell_type": "code",
      "source": [
        "#create our first tensor with tf.constant()\n",
        "scalar = tf.constant(7)\n",
        "scalar"
      ],
      "metadata": {
        "colab": {
          "base_uri": "https://localhost:8080/"
        },
        "id": "VIMsaKU7WNj1",
        "outputId": "4e1203e9-c817-40aa-e633-d28900280103"
      },
      "execution_count": 5,
      "outputs": [
        {
          "output_type": "execute_result",
          "data": {
            "text/plain": [
              "<tf.Tensor: shape=(), dtype=int32, numpy=7>"
            ]
          },
          "metadata": {},
          "execution_count": 5
        }
      ]
    },
    {
      "cell_type": "code",
      "source": [
        "#CHECK THE NUMBER OF DIMENSIONS OF A TENSOR\n",
        "scalar.ndim"
      ],
      "metadata": {
        "colab": {
          "base_uri": "https://localhost:8080/"
        },
        "id": "C_os0UrCX9AP",
        "outputId": "20a0bbe6-ac91-478f-92c7-b9b5da245e7b"
      },
      "execution_count": 6,
      "outputs": [
        {
          "output_type": "execute_result",
          "data": {
            "text/plain": [
              "0"
            ]
          },
          "metadata": {},
          "execution_count": 6
        }
      ]
    },
    {
      "cell_type": "code",
      "source": [
        "#create a verctor\n",
        "vector=tf.constant([10,10])\n",
        "vector"
      ],
      "metadata": {
        "colab": {
          "base_uri": "https://localhost:8080/"
        },
        "id": "T519nYYjYJLl",
        "outputId": "0fd791b3-eb90-4c29-d460-eb425fdc3e88"
      },
      "execution_count": 7,
      "outputs": [
        {
          "output_type": "execute_result",
          "data": {
            "text/plain": [
              "<tf.Tensor: shape=(2,), dtype=int32, numpy=array([10, 10], dtype=int32)>"
            ]
          },
          "metadata": {},
          "execution_count": 7
        }
      ]
    },
    {
      "cell_type": "code",
      "source": [
        "\n",
        "#create a matrix\n",
        "matrix=tf.constant([[7,10],\n",
        "                   [10,7]])\n",
        "matrix"
      ],
      "metadata": {
        "colab": {
          "base_uri": "https://localhost:8080/"
        },
        "id": "PsRIv032Y4x0",
        "outputId": "b04549d1-9686-44fb-bdf7-526b83e81f44"
      },
      "execution_count": 10,
      "outputs": [
        {
          "output_type": "execute_result",
          "data": {
            "text/plain": [
              "<tf.Tensor: shape=(2, 2), dtype=int32, numpy=\n",
              "array([[ 7, 10],\n",
              "       [10,  7]], dtype=int32)>"
            ]
          },
          "metadata": {},
          "execution_count": 10
        }
      ]
    },
    {
      "cell_type": "code",
      "source": [
        "matrix.ndim"
      ],
      "metadata": {
        "colab": {
          "base_uri": "https://localhost:8080/"
        },
        "id": "S-nkvyY2ajpr",
        "outputId": "b6b7db42-82f3-45fc-ddd4-53fa9779fc1a"
      },
      "execution_count": 11,
      "outputs": [
        {
          "output_type": "execute_result",
          "data": {
            "text/plain": [
              "2"
            ]
          },
          "metadata": {},
          "execution_count": 11
        }
      ]
    },
    {
      "cell_type": "code",
      "source": [
        "another_matrix=tf.constant([[7,10],\n",
        "                   [10,7],\n",
        "                    [10.0,88.1]],dtype=tf.float16)#sepicifiyin the data type\n",
        "another_matrix"
      ],
      "metadata": {
        "colab": {
          "base_uri": "https://localhost:8080/"
        },
        "id": "MjFHcA_JeXr6",
        "outputId": "7684e401-4fa4-476e-9ef3-8b5a90bc00c1"
      },
      "execution_count": 12,
      "outputs": [
        {
          "output_type": "execute_result",
          "data": {
            "text/plain": [
              "<tf.Tensor: shape=(3, 2), dtype=float16, numpy=\n",
              "array([[ 7. , 10. ],\n",
              "       [10. ,  7. ],\n",
              "       [10. , 88.1]], dtype=float16)>"
            ]
          },
          "metadata": {},
          "execution_count": 12
        }
      ]
    },
    {
      "cell_type": "code",
      "source": [
        "#let's create a tensor\n",
        "tensor =tf.constant([[[10,5,0],\n",
        "                    [12,9,10]],\n",
        "                    [[2,6,7],\n",
        "                     [2,56,7]],\n",
        "                     [[2,7,0],\n",
        "                     [67,0,8]]])\n",
        "tensor"
      ],
      "metadata": {
        "colab": {
          "base_uri": "https://localhost:8080/"
        },
        "id": "i-AoG_vrgcq-",
        "outputId": "a28bb2fa-b684-4017-89b5-b8d3b2588b8c"
      },
      "execution_count": 14,
      "outputs": [
        {
          "output_type": "execute_result",
          "data": {
            "text/plain": [
              "<tf.Tensor: shape=(3, 2, 3), dtype=int32, numpy=\n",
              "array([[[10,  5,  0],\n",
              "        [12,  9, 10]],\n",
              "\n",
              "       [[ 2,  6,  7],\n",
              "        [ 2, 56,  7]],\n",
              "\n",
              "       [[ 2,  7,  0],\n",
              "        [67,  0,  8]]], dtype=int32)>"
            ]
          },
          "metadata": {},
          "execution_count": 14
        }
      ]
    }
  ]
}